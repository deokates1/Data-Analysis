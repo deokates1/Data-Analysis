{
 "cells": [
  {
   "cell_type": "markdown",
   "metadata": {},
   "source": [
    "# Defect Prediction\n",
    "\n",
    "We will attempt to predict defects using the PC1 dataset used in this week's paper \"Data Mining Static Code Attributes to Learn Defect Predictors.\""
   ]
  },
  {
   "cell_type": "code",
   "execution_count": 1,
   "metadata": {},
   "outputs": [],
   "source": [
    "# Import libraries\n",
    "import numpy as np\n",
    "import pandas as pd\n",
    "from scipy.io.arff import loadarff\n",
    "from sklearn.model_selection import train_test_split\n",
    "from sklearn.metrics import accuracy_score, confusion_matrix"
   ]
  },
  {
   "cell_type": "code",
   "execution_count": 2,
   "metadata": {},
   "outputs": [],
   "source": [
    "# Use fixed random seed, so that notebook always produces the same results\n",
    "# We will use the random_state argument to set the seed in appropriate function calls\n",
    "myseed = 1"
   ]
  },
  {
   "cell_type": "markdown",
   "metadata": {},
   "source": [
    "## Exploratory Data Analysis\n",
    "\n",
    "The first two steps of building a model: 1) Data Collection and 2) Feature Extraction have already been completed for you. \n",
    "\n",
    "In this section, we load a CSV file contained the samples with features and labels as a Pandas data frame, then examine the contents of the data."
   ]
  },
  {
   "cell_type": "code",
   "execution_count": 3,
   "metadata": {},
   "outputs": [],
   "source": [
    "df = pd.read_csv('pc1.csv')"
   ]
  },
  {
   "cell_type": "code",
   "execution_count": 4,
   "metadata": {},
   "outputs": [
    {
     "data": {
      "text/plain": [
       "(1109, 22)"
      ]
     },
     "execution_count": 4,
     "metadata": {},
     "output_type": "execute_result"
    }
   ],
   "source": [
    "# How many rows (samples) and columns (features + label) are in the data?\n",
    "df.shape"
   ]
  },
  {
   "cell_type": "code",
   "execution_count": 5,
   "metadata": {},
   "outputs": [
    {
     "name": "stdout",
     "output_type": "stream",
     "text": [
      "<class 'pandas.core.frame.DataFrame'>\n",
      "RangeIndex: 1109 entries, 0 to 1108\n",
      "Data columns (total 22 columns):\n",
      "loc                  1109 non-null float64\n",
      "v(g)                 1109 non-null float64\n",
      "ev(g)                1109 non-null float64\n",
      "iv(G)                1109 non-null float64\n",
      "N                    1109 non-null float64\n",
      "V                    1109 non-null float64\n",
      "L                    1109 non-null float64\n",
      "D                    1109 non-null float64\n",
      "I                    1109 non-null float64\n",
      "E                    1109 non-null float64\n",
      "B                    1109 non-null float64\n",
      "T                    1109 non-null float64\n",
      "lOCode               1109 non-null int64\n",
      "lOComment            1109 non-null int64\n",
      "locCodeAndComment    1109 non-null int64\n",
      "lOBlank              1109 non-null int64\n",
      "uniq_Op              1109 non-null float64\n",
      "uniq_Opnd            1109 non-null float64\n",
      "total_Op             1109 non-null float64\n",
      "total_Opnd           1109 non-null float64\n",
      "branchCount          1109 non-null float64\n",
      "defects              1109 non-null bool\n",
      "dtypes: bool(1), float64(17), int64(4)\n",
      "memory usage: 183.1 KB\n"
     ]
    }
   ],
   "source": [
    "# Find data types of each column\n",
    "df.info()"
   ]
  },
  {
   "cell_type": "code",
   "execution_count": 6,
   "metadata": {},
   "outputs": [],
   "source": [
    "# Convert defects to binary 0/1 data from boolean\n",
    "df.defects = df.defects.astype(int)"
   ]
  },
  {
   "cell_type": "code",
   "execution_count": 7,
   "metadata": {
    "scrolled": true
   },
   "outputs": [
    {
     "data": {
      "text/html": [
       "<div>\n",
       "<style scoped>\n",
       "    .dataframe tbody tr th:only-of-type {\n",
       "        vertical-align: middle;\n",
       "    }\n",
       "\n",
       "    .dataframe tbody tr th {\n",
       "        vertical-align: top;\n",
       "    }\n",
       "\n",
       "    .dataframe thead th {\n",
       "        text-align: right;\n",
       "    }\n",
       "</style>\n",
       "<table border=\"1\" class=\"dataframe\">\n",
       "  <thead>\n",
       "    <tr style=\"text-align: right;\">\n",
       "      <th></th>\n",
       "      <th>loc</th>\n",
       "      <th>v(g)</th>\n",
       "      <th>ev(g)</th>\n",
       "      <th>iv(G)</th>\n",
       "      <th>N</th>\n",
       "      <th>V</th>\n",
       "      <th>L</th>\n",
       "      <th>D</th>\n",
       "      <th>I</th>\n",
       "      <th>E</th>\n",
       "      <th>...</th>\n",
       "      <th>lOCode</th>\n",
       "      <th>lOComment</th>\n",
       "      <th>locCodeAndComment</th>\n",
       "      <th>lOBlank</th>\n",
       "      <th>uniq_Op</th>\n",
       "      <th>uniq_Opnd</th>\n",
       "      <th>total_Op</th>\n",
       "      <th>total_Opnd</th>\n",
       "      <th>branchCount</th>\n",
       "      <th>defects</th>\n",
       "    </tr>\n",
       "  </thead>\n",
       "  <tbody>\n",
       "    <tr>\n",
       "      <th>646</th>\n",
       "      <td>62.0</td>\n",
       "      <td>18.0</td>\n",
       "      <td>12.0</td>\n",
       "      <td>11.0</td>\n",
       "      <td>319.0</td>\n",
       "      <td>1974.55</td>\n",
       "      <td>0.03</td>\n",
       "      <td>39.28</td>\n",
       "      <td>50.27</td>\n",
       "      <td>77553.76</td>\n",
       "      <td>...</td>\n",
       "      <td>62</td>\n",
       "      <td>1</td>\n",
       "      <td>0</td>\n",
       "      <td>6</td>\n",
       "      <td>26.0</td>\n",
       "      <td>47.0</td>\n",
       "      <td>177.0</td>\n",
       "      <td>142.0</td>\n",
       "      <td>35.0</td>\n",
       "      <td>0</td>\n",
       "    </tr>\n",
       "    <tr>\n",
       "      <th>807</th>\n",
       "      <td>6.0</td>\n",
       "      <td>1.0</td>\n",
       "      <td>1.0</td>\n",
       "      <td>1.0</td>\n",
       "      <td>15.0</td>\n",
       "      <td>51.89</td>\n",
       "      <td>0.34</td>\n",
       "      <td>2.92</td>\n",
       "      <td>17.79</td>\n",
       "      <td>151.35</td>\n",
       "      <td>...</td>\n",
       "      <td>6</td>\n",
       "      <td>0</td>\n",
       "      <td>0</td>\n",
       "      <td>1</td>\n",
       "      <td>5.0</td>\n",
       "      <td>6.0</td>\n",
       "      <td>8.0</td>\n",
       "      <td>7.0</td>\n",
       "      <td>1.0</td>\n",
       "      <td>0</td>\n",
       "    </tr>\n",
       "    <tr>\n",
       "      <th>264</th>\n",
       "      <td>8.0</td>\n",
       "      <td>4.0</td>\n",
       "      <td>1.0</td>\n",
       "      <td>4.0</td>\n",
       "      <td>28.0</td>\n",
       "      <td>106.61</td>\n",
       "      <td>0.22</td>\n",
       "      <td>4.50</td>\n",
       "      <td>23.69</td>\n",
       "      <td>479.73</td>\n",
       "      <td>...</td>\n",
       "      <td>5</td>\n",
       "      <td>5</td>\n",
       "      <td>3</td>\n",
       "      <td>6</td>\n",
       "      <td>6.0</td>\n",
       "      <td>8.0</td>\n",
       "      <td>16.0</td>\n",
       "      <td>12.0</td>\n",
       "      <td>7.0</td>\n",
       "      <td>0</td>\n",
       "    </tr>\n",
       "    <tr>\n",
       "      <th>411</th>\n",
       "      <td>31.0</td>\n",
       "      <td>7.0</td>\n",
       "      <td>5.0</td>\n",
       "      <td>4.0</td>\n",
       "      <td>125.0</td>\n",
       "      <td>660.68</td>\n",
       "      <td>0.03</td>\n",
       "      <td>32.08</td>\n",
       "      <td>20.59</td>\n",
       "      <td>21196.67</td>\n",
       "      <td>...</td>\n",
       "      <td>28</td>\n",
       "      <td>19</td>\n",
       "      <td>3</td>\n",
       "      <td>14</td>\n",
       "      <td>21.0</td>\n",
       "      <td>18.0</td>\n",
       "      <td>70.0</td>\n",
       "      <td>55.0</td>\n",
       "      <td>13.0</td>\n",
       "      <td>0</td>\n",
       "    </tr>\n",
       "    <tr>\n",
       "      <th>335</th>\n",
       "      <td>21.0</td>\n",
       "      <td>9.0</td>\n",
       "      <td>4.0</td>\n",
       "      <td>7.0</td>\n",
       "      <td>94.0</td>\n",
       "      <td>470.00</td>\n",
       "      <td>0.04</td>\n",
       "      <td>23.80</td>\n",
       "      <td>19.75</td>\n",
       "      <td>11186.00</td>\n",
       "      <td>...</td>\n",
       "      <td>18</td>\n",
       "      <td>0</td>\n",
       "      <td>3</td>\n",
       "      <td>2</td>\n",
       "      <td>17.0</td>\n",
       "      <td>15.0</td>\n",
       "      <td>52.0</td>\n",
       "      <td>42.0</td>\n",
       "      <td>15.0</td>\n",
       "      <td>0</td>\n",
       "    </tr>\n",
       "    <tr>\n",
       "      <th>918</th>\n",
       "      <td>5.0</td>\n",
       "      <td>1.0</td>\n",
       "      <td>1.0</td>\n",
       "      <td>1.0</td>\n",
       "      <td>21.0</td>\n",
       "      <td>77.71</td>\n",
       "      <td>0.23</td>\n",
       "      <td>4.29</td>\n",
       "      <td>18.13</td>\n",
       "      <td>333.04</td>\n",
       "      <td>...</td>\n",
       "      <td>5</td>\n",
       "      <td>0</td>\n",
       "      <td>0</td>\n",
       "      <td>0</td>\n",
       "      <td>6.0</td>\n",
       "      <td>7.0</td>\n",
       "      <td>11.0</td>\n",
       "      <td>10.0</td>\n",
       "      <td>1.0</td>\n",
       "      <td>0</td>\n",
       "    </tr>\n",
       "    <tr>\n",
       "      <th>341</th>\n",
       "      <td>40.0</td>\n",
       "      <td>9.0</td>\n",
       "      <td>1.0</td>\n",
       "      <td>5.0</td>\n",
       "      <td>247.0</td>\n",
       "      <td>1492.97</td>\n",
       "      <td>0.03</td>\n",
       "      <td>33.54</td>\n",
       "      <td>44.52</td>\n",
       "      <td>50068.96</td>\n",
       "      <td>...</td>\n",
       "      <td>40</td>\n",
       "      <td>3</td>\n",
       "      <td>0</td>\n",
       "      <td>16</td>\n",
       "      <td>25.0</td>\n",
       "      <td>41.0</td>\n",
       "      <td>137.0</td>\n",
       "      <td>110.0</td>\n",
       "      <td>17.0</td>\n",
       "      <td>0</td>\n",
       "    </tr>\n",
       "    <tr>\n",
       "      <th>195</th>\n",
       "      <td>15.0</td>\n",
       "      <td>1.0</td>\n",
       "      <td>1.0</td>\n",
       "      <td>1.0</td>\n",
       "      <td>48.0</td>\n",
       "      <td>210.83</td>\n",
       "      <td>0.12</td>\n",
       "      <td>8.18</td>\n",
       "      <td>25.77</td>\n",
       "      <td>1724.98</td>\n",
       "      <td>...</td>\n",
       "      <td>15</td>\n",
       "      <td>12</td>\n",
       "      <td>0</td>\n",
       "      <td>14</td>\n",
       "      <td>10.0</td>\n",
       "      <td>11.0</td>\n",
       "      <td>30.0</td>\n",
       "      <td>18.0</td>\n",
       "      <td>1.0</td>\n",
       "      <td>0</td>\n",
       "    </tr>\n",
       "    <tr>\n",
       "      <th>852</th>\n",
       "      <td>11.0</td>\n",
       "      <td>1.0</td>\n",
       "      <td>1.0</td>\n",
       "      <td>1.0</td>\n",
       "      <td>84.0</td>\n",
       "      <td>430.86</td>\n",
       "      <td>0.09</td>\n",
       "      <td>11.23</td>\n",
       "      <td>38.38</td>\n",
       "      <td>4837.38</td>\n",
       "      <td>...</td>\n",
       "      <td>11</td>\n",
       "      <td>0</td>\n",
       "      <td>0</td>\n",
       "      <td>2</td>\n",
       "      <td>13.0</td>\n",
       "      <td>22.0</td>\n",
       "      <td>46.0</td>\n",
       "      <td>38.0</td>\n",
       "      <td>1.0</td>\n",
       "      <td>0</td>\n",
       "    </tr>\n",
       "    <tr>\n",
       "      <th>174</th>\n",
       "      <td>16.0</td>\n",
       "      <td>1.0</td>\n",
       "      <td>1.0</td>\n",
       "      <td>1.0</td>\n",
       "      <td>54.0</td>\n",
       "      <td>244.27</td>\n",
       "      <td>0.12</td>\n",
       "      <td>8.08</td>\n",
       "      <td>30.24</td>\n",
       "      <td>1972.97</td>\n",
       "      <td>...</td>\n",
       "      <td>16</td>\n",
       "      <td>12</td>\n",
       "      <td>0</td>\n",
       "      <td>11</td>\n",
       "      <td>10.0</td>\n",
       "      <td>13.0</td>\n",
       "      <td>33.0</td>\n",
       "      <td>21.0</td>\n",
       "      <td>1.0</td>\n",
       "      <td>0</td>\n",
       "    </tr>\n",
       "  </tbody>\n",
       "</table>\n",
       "<p>10 rows × 22 columns</p>\n",
       "</div>"
      ],
      "text/plain": [
       "      loc  v(g)  ev(g)  iv(G)      N        V     L      D      I         E  \\\n",
       "646  62.0  18.0   12.0   11.0  319.0  1974.55  0.03  39.28  50.27  77553.76   \n",
       "807   6.0   1.0    1.0    1.0   15.0    51.89  0.34   2.92  17.79    151.35   \n",
       "264   8.0   4.0    1.0    4.0   28.0   106.61  0.22   4.50  23.69    479.73   \n",
       "411  31.0   7.0    5.0    4.0  125.0   660.68  0.03  32.08  20.59  21196.67   \n",
       "335  21.0   9.0    4.0    7.0   94.0   470.00  0.04  23.80  19.75  11186.00   \n",
       "918   5.0   1.0    1.0    1.0   21.0    77.71  0.23   4.29  18.13    333.04   \n",
       "341  40.0   9.0    1.0    5.0  247.0  1492.97  0.03  33.54  44.52  50068.96   \n",
       "195  15.0   1.0    1.0    1.0   48.0   210.83  0.12   8.18  25.77   1724.98   \n",
       "852  11.0   1.0    1.0    1.0   84.0   430.86  0.09  11.23  38.38   4837.38   \n",
       "174  16.0   1.0    1.0    1.0   54.0   244.27  0.12   8.08  30.24   1972.97   \n",
       "\n",
       "      ...     lOCode  lOComment  locCodeAndComment  lOBlank  uniq_Op  \\\n",
       "646   ...         62          1                  0        6     26.0   \n",
       "807   ...          6          0                  0        1      5.0   \n",
       "264   ...          5          5                  3        6      6.0   \n",
       "411   ...         28         19                  3       14     21.0   \n",
       "335   ...         18          0                  3        2     17.0   \n",
       "918   ...          5          0                  0        0      6.0   \n",
       "341   ...         40          3                  0       16     25.0   \n",
       "195   ...         15         12                  0       14     10.0   \n",
       "852   ...         11          0                  0        2     13.0   \n",
       "174   ...         16         12                  0       11     10.0   \n",
       "\n",
       "     uniq_Opnd  total_Op  total_Opnd  branchCount  defects  \n",
       "646       47.0     177.0       142.0         35.0        0  \n",
       "807        6.0       8.0         7.0          1.0        0  \n",
       "264        8.0      16.0        12.0          7.0        0  \n",
       "411       18.0      70.0        55.0         13.0        0  \n",
       "335       15.0      52.0        42.0         15.0        0  \n",
       "918        7.0      11.0        10.0          1.0        0  \n",
       "341       41.0     137.0       110.0         17.0        0  \n",
       "195       11.0      30.0        18.0          1.0        0  \n",
       "852       22.0      46.0        38.0          1.0        0  \n",
       "174       13.0      33.0        21.0          1.0        0  \n",
       "\n",
       "[10 rows x 22 columns]"
      ]
     },
     "execution_count": 7,
     "metadata": {},
     "output_type": "execute_result"
    }
   ],
   "source": [
    "# Examine a random sample of the data\n",
    "df.sample(10)"
   ]
  },
  {
   "cell_type": "markdown",
   "metadata": {},
   "source": [
    "## EDA Visualization\n",
    "\n",
    "Let's visualize the data to see how each variable is distributed. Since this is a binary prediction dataset, the response variable Forgery has only two values, 0 and 1. Our visualizations will start with histograms, then use boxplots and kernel density plots."
   ]
  },
  {
   "cell_type": "code",
   "execution_count": 18,
   "metadata": {},
   "outputs": [
    {
     "data": {
      "image/png": "[encoded data removed]",
      "text/plain": [
       "<Figure size 1440x1152 with 25 Axes>"
      ]
     },
     "metadata": {
      "needs_background": "light"
     },
     "output_type": "display_data"
    }
   ],
   "source": [
    "df.hist(bins=30, figsize=(20,16));"
   ]
  },
  {
   "cell_type": "code",
   "execution_count": 19,
   "metadata": {},
   "outputs": [
    {
     "data": {
      "image/png": "[encoded data removed]",
      "text/plain": [
       "<Figure size 432x288 with 1 Axes>"
      ]
     },
     "metadata": {
      "needs_background": "light"
     },
     "output_type": "display_data"
    }
   ],
   "source": [
    "df[\"B\"].plot.kde();"
   ]
  },
  {
   "cell_type": "markdown",
   "metadata": {},
   "source": [
    "## Prepare Data for Machine Learning\n",
    "\n",
    "The pandas data frame contains both the 4 features and label for each sample. We need to separate the features and the label for scikit-learn and convert them from data frames to NumPy arrays that scikit-learn expects. We create a vector (one-dimensional array) of labels and an array of features."
   ]
  },
  {
   "cell_type": "code",
   "execution_count": 10,
   "metadata": {},
   "outputs": [],
   "source": [
    "# Create vector of response variable (label) and matrix of features\n",
    "y = df['defects'].values                  # y is response vector\n",
    "X = df.drop('defects', axis=1).values     # X is array of predictors(features)"
   ]
  },
  {
   "cell_type": "code",
   "execution_count": 11,
   "metadata": {},
   "outputs": [
    {
     "data": {
      "text/plain": [
       "(1109,)"
      ]
     },
     "execution_count": 11,
     "metadata": {},
     "output_type": "execute_result"
    }
   ],
   "source": [
    "# Check shape of y to verify it's a vector with the same number of samples as the data frame\n",
    "y.shape"
   ]
  },
  {
   "cell_type": "code",
   "execution_count": 12,
   "metadata": {},
   "outputs": [
    {
     "data": {
      "text/plain": [
       "(1109, 21)"
      ]
     },
     "execution_count": 12,
     "metadata": {},
     "output_type": "execute_result"
    }
   ],
   "source": [
    "# Check shape of X to verify it's an array with 4 columns for features and same number of rows as y\n",
    "X.shape"
   ]
  },
  {
   "cell_type": "code",
   "execution_count": 13,
   "metadata": {},
   "outputs": [],
   "source": [
    "# Log transform predictors as in paper\n",
    "from sklearn.preprocessing import FunctionTransformer\n",
    "transformer = FunctionTransformer(np.log1p, validate=True)"
   ]
  },
  {
   "cell_type": "code",
   "execution_count": 14,
   "metadata": {},
   "outputs": [],
   "source": [
    "X = transformer.transform(X)"
   ]
  },
  {
   "cell_type": "markdown",
   "metadata": {},
   "source": [
    "We split the data in training and test sets, with 80% of the data used for training and 20% for testing. We set the random_state parameter so that the split will be the same each time."
   ]
  },
  {
   "cell_type": "code",
   "execution_count": 15,
   "metadata": {},
   "outputs": [],
   "source": [
    "# Split dataset up into train and test sets\n",
    "X_train, X_test, y_train, y_test = train_test_split(X, y, test_size=0.2, random_state=10)"
   ]
  },
  {
   "cell_type": "code",
   "execution_count": 16,
   "metadata": {
    "scrolled": true
   },
   "outputs": [
    {
     "name": "stdout",
     "output_type": "stream",
     "text": [
      "222 1\n",
      "(887, 21)\n",
      "(222, 21)\n"
     ]
    }
   ],
   "source": [
    "# Check size of training and test sets; it appears the split rounds up.\n",
    "# Note: you must use print() to get multiple outputs from a Jupyter notebook cell\n",
    "print(round(0.2 * X.shape[0]),1)\n",
    "print(X_train.shape)\n",
    "print(X_test.shape)"
   ]
  },
  {
   "cell_type": "code",
   "execution_count": 21,
   "metadata": {
    "scrolled": true
   },
   "outputs": [
    {
     "data": {
      "text/plain": [
       "array([[0.74193734, 0.87546874, 0.87546874, ..., 0.78845736, 0.78845736,\n",
       "        0.87546874],\n",
       "       [0.69314718, 0.69314718, 0.69314718, ..., 0.69314718, 0.69314718,\n",
       "        0.69314718],\n",
       "       [4.52178858, 2.30258509, 1.38629436, ..., 5.26269019, 4.84418709,\n",
       "        2.89037176],\n",
       "       ...,\n",
       "       [1.79175947, 1.38629436, 1.38629436, ..., 2.48490665, 1.94591015,\n",
       "        1.79175947],\n",
       "       [2.94443898, 2.19722458, 1.79175947, ..., 4.12713439, 3.93182563,\n",
       "        2.77258872],\n",
       "       [3.29583687, 2.94443898, 2.63905733, ..., 4.78749174, 4.70048037,\n",
       "        3.58351894]])"
      ]
     },
     "execution_count": 21,
     "metadata": {},
     "output_type": "execute_result"
    }
   ],
   "source": [
    "X"
   ]
  },
  {
   "cell_type": "code",
   "execution_count": 24,
   "metadata": {},
   "outputs": [
    {
     "data": {
      "text/plain": [
       "GaussianNB(priors=None, var_smoothing=1e-09)"
      ]
     },
     "execution_count": 24,
     "metadata": {},
     "output_type": "execute_result"
    }
   ],
   "source": [
    "from sklearn.naive_bayes import GaussianNB\n",
    "gnb = GaussianNB()\n",
    "gnb.fit(X_train, y_train)"
   ]
  },
  {
   "cell_type": "code",
   "execution_count": 25,
   "metadata": {},
   "outputs": [],
   "source": [
    "y_pred1 = gnb.predict(X_test)"
   ]
  },
  {
   "cell_type": "code",
   "execution_count": 26,
   "metadata": {},
   "outputs": [
    {
     "data": {
      "text/plain": [
       "0.748"
      ]
     },
     "execution_count": 26,
     "metadata": {},
     "output_type": "execute_result"
    }
   ],
   "source": [
    "# Compare test set predictions with ground truth labels\n",
    "round(accuracy_score(y_pred1, y_test), 3)"
   ]
  },
  {
   "cell_type": "code",
   "execution_count": 27,
   "metadata": {},
   "outputs": [
    {
     "data": {
      "text/plain": [
       "array([[162,  45],\n",
       "       [ 11,   4]])"
      ]
     },
     "execution_count": 27,
     "metadata": {},
     "output_type": "execute_result"
    }
   ],
   "source": [
    "# The confusion matrix shows correct classifications on the upper left to lower right diagonal.\n",
    "cm1 = confusion_matrix(y_test, y_pred1)\n",
    "cm1"
   ]
  },
  {
   "cell_type": "code",
   "execution_count": 28,
   "metadata": {},
   "outputs": [
    {
     "data": {
      "text/plain": [
       "(162, 45, 11, 4)"
      ]
     },
     "execution_count": 28,
     "metadata": {},
     "output_type": "execute_result"
    }
   ],
   "source": [
    "# We can extract the number of True Positives, False Positives, True Negatives, and False Negatives\n",
    "tn1, fp1, fn1, tp1 = cm1.ravel()\n",
    "(tn1, fp1, fn1, tp1)"
   ]
  },
  {
   "cell_type": "code",
   "execution_count": 29,
   "metadata": {},
   "outputs": [
    {
     "data": {
      "text/plain": [
       "0.748"
      ]
     },
     "execution_count": 29,
     "metadata": {},
     "output_type": "execute_result"
    }
   ],
   "source": [
    "accuracy1 = (tn1 + tp1)/(tn1 + tp1 + fn1 + fp1)\n",
    "round(accuracy1, 3)"
   ]
  },
  {
   "cell_type": "code",
   "execution_count": 30,
   "metadata": {},
   "outputs": [
    {
     "data": {
      "text/plain": [
       "0.082"
      ]
     },
     "execution_count": 30,
     "metadata": {},
     "output_type": "execute_result"
    }
   ],
   "source": [
    "# Precision is the ratio of positives correctly predicted to the total number of actual positives. \n",
    "# It is the most important metric when we want to minimize false positives.\n",
    "precision1 = tp1 / (tp1 + fp1)\n",
    "round(precision1, 3)"
   ]
  },
  {
   "cell_type": "code",
   "execution_count": 31,
   "metadata": {},
   "outputs": [
    {
     "data": {
      "text/plain": [
       "0.267"
      ]
     },
     "execution_count": 31,
     "metadata": {},
     "output_type": "execute_result"
    }
   ],
   "source": [
    "# Recall is the percent of actual positive values predicted. \n",
    "# It is most important metric when we want to minimize false negatives.\n",
    "recall1 = tp1 / (tp1 + fn1)\n",
    "round(recall1, 3)"
   ]
  },
  {
   "cell_type": "code",
   "execution_count": 32,
   "metadata": {},
   "outputs": [
    {
     "data": {
      "text/plain": [
       "0.125"
      ]
     },
     "execution_count": 32,
     "metadata": {},
     "output_type": "execute_result"
    }
   ],
   "source": [
    "# F1 combines precision and recall to take both types of errors evenly into account.\n",
    "f11 = 2 * (precision1 * recall1) / (precision1 + recall1)\n",
    "round(f11, 3)"
   ]
  },
  {
   "cell_type": "code",
   "execution_count": null,
   "metadata": {},
   "outputs": [],
   "source": []
  }
 ],
 "metadata": {
  "kernelspec": {
   "display_name": "Python 3",
   "language": "python",
   "name": "python3"
  },
  "language_info": {
   "codemirror_mode": {
    "name": "ipython",
    "version": 3
   },
   "file_extension": ".py",
   "mimetype": "text/x-python",
   "name": "python",
   "nbconvert_exporter": "python",
   "pygments_lexer": "ipython3",
   "version": "3.7.1"
  }
 },
 "nbformat": 4,
 "nbformat_minor": 2
}
