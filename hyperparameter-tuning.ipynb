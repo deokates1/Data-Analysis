{
 "cells": [
  {
   "cell_type": "markdown",
   "metadata": {},
   "source": [
    "# Hyperparameter Tuning\n",
    "\n",
    "Hyperparameters of machine learning algorithms are parameters set before training the model. These parameters affect model performance but cannot be learned through the normal training process. To identify good hyperparameters for a particular problem, we must build and test models with a variety of hyperparameters."
   ]
  },
  {
   "cell_type": "code",
   "execution_count": 4,
   "metadata": {},
   "outputs": [],
   "source": [
    "%matplotlib inline\n",
    "\n",
    "import numpy as np\n",
    "import pandas as pd\n",
    "from sklearn.naive_bayes import GaussianNB\n",
    "from sklearn.linear_model import LogisticRegression\n",
    "from sklearn.ensemble import RandomForestClassifier\n",
    "from sklearn.model_selection import train_test_split, cross_val_score, GridSearchCV\n",
    "from sklearn.metrics import *"
   ]
  },
  {
   "cell_type": "code",
   "execution_count": 5,
   "metadata": {},
   "outputs": [],
   "source": [
    "myseed = 1"
   ]
  },
  {
   "cell_type": "markdown",
   "metadata": {},
   "source": [
    "## Building a Defect Prediction Model"
   ]
  },
  {
   "cell_type": "code",
   "execution_count": 7,
   "metadata": {
    "scrolled": true
   },
   "outputs": [
    {
     "data": {
      "text/html": [
       "<div>\n",
       "<style scoped>\n",
       "    .dataframe tbody tr th:only-of-type {\n",
       "        vertical-align: middle;\n",
       "    }\n",
       "\n",
       "    .dataframe tbody tr th {\n",
       "        vertical-align: top;\n",
       "    }\n",
       "\n",
       "    .dataframe thead th {\n",
       "        text-align: right;\n",
       "    }\n",
       "</style>\n",
       "<table border=\"1\" class=\"dataframe\">\n",
       "  <thead>\n",
       "    <tr style=\"text-align: right;\">\n",
       "      <th></th>\n",
       "      <th>wmc</th>\n",
       "      <th>dit</th>\n",
       "      <th>noc</th>\n",
       "      <th>cbo</th>\n",
       "      <th>rfc</th>\n",
       "      <th>lcom</th>\n",
       "      <th>ca</th>\n",
       "      <th>ce</th>\n",
       "      <th>npm</th>\n",
       "      <th>lcom3</th>\n",
       "      <th>...</th>\n",
       "      <th>dam</th>\n",
       "      <th>moa</th>\n",
       "      <th>mfa</th>\n",
       "      <th>cam</th>\n",
       "      <th>ic</th>\n",
       "      <th>cbm</th>\n",
       "      <th>amc</th>\n",
       "      <th>max_cc</th>\n",
       "      <th>avg_cc</th>\n",
       "      <th>defective</th>\n",
       "    </tr>\n",
       "  </thead>\n",
       "  <tbody>\n",
       "    <tr>\n",
       "      <th>0</th>\n",
       "      <td>5</td>\n",
       "      <td>3</td>\n",
       "      <td>0</td>\n",
       "      <td>7</td>\n",
       "      <td>10</td>\n",
       "      <td>0</td>\n",
       "      <td>1</td>\n",
       "      <td>7</td>\n",
       "      <td>4</td>\n",
       "      <td>0.250000</td>\n",
       "      <td>...</td>\n",
       "      <td>1.0</td>\n",
       "      <td>1</td>\n",
       "      <td>0.921053</td>\n",
       "      <td>0.360000</td>\n",
       "      <td>1</td>\n",
       "      <td>2</td>\n",
       "      <td>7.400</td>\n",
       "      <td>1</td>\n",
       "      <td>0.6000</td>\n",
       "      <td>0</td>\n",
       "    </tr>\n",
       "    <tr>\n",
       "      <th>1</th>\n",
       "      <td>4</td>\n",
       "      <td>1</td>\n",
       "      <td>0</td>\n",
       "      <td>3</td>\n",
       "      <td>5</td>\n",
       "      <td>4</td>\n",
       "      <td>1</td>\n",
       "      <td>2</td>\n",
       "      <td>3</td>\n",
       "      <td>0.666667</td>\n",
       "      <td>...</td>\n",
       "      <td>1.0</td>\n",
       "      <td>1</td>\n",
       "      <td>0.000000</td>\n",
       "      <td>0.500000</td>\n",
       "      <td>0</td>\n",
       "      <td>0</td>\n",
       "      <td>3.000</td>\n",
       "      <td>1</td>\n",
       "      <td>0.5000</td>\n",
       "      <td>0</td>\n",
       "    </tr>\n",
       "    <tr>\n",
       "      <th>2</th>\n",
       "      <td>20</td>\n",
       "      <td>4</td>\n",
       "      <td>0</td>\n",
       "      <td>26</td>\n",
       "      <td>95</td>\n",
       "      <td>144</td>\n",
       "      <td>2</td>\n",
       "      <td>26</td>\n",
       "      <td>13</td>\n",
       "      <td>0.842105</td>\n",
       "      <td>...</td>\n",
       "      <td>1.0</td>\n",
       "      <td>0</td>\n",
       "      <td>0.727273</td>\n",
       "      <td>0.197368</td>\n",
       "      <td>4</td>\n",
       "      <td>5</td>\n",
       "      <td>20.300</td>\n",
       "      <td>3</td>\n",
       "      <td>1.0000</td>\n",
       "      <td>0</td>\n",
       "    </tr>\n",
       "    <tr>\n",
       "      <th>3</th>\n",
       "      <td>3</td>\n",
       "      <td>2</td>\n",
       "      <td>0</td>\n",
       "      <td>8</td>\n",
       "      <td>22</td>\n",
       "      <td>3</td>\n",
       "      <td>2</td>\n",
       "      <td>6</td>\n",
       "      <td>2</td>\n",
       "      <td>2.000000</td>\n",
       "      <td>...</td>\n",
       "      <td>0.0</td>\n",
       "      <td>0</td>\n",
       "      <td>0.750000</td>\n",
       "      <td>0.666667</td>\n",
       "      <td>1</td>\n",
       "      <td>3</td>\n",
       "      <td>54.000</td>\n",
       "      <td>15</td>\n",
       "      <td>5.3333</td>\n",
       "      <td>1</td>\n",
       "    </tr>\n",
       "    <tr>\n",
       "      <th>4</th>\n",
       "      <td>8</td>\n",
       "      <td>1</td>\n",
       "      <td>0</td>\n",
       "      <td>25</td>\n",
       "      <td>20</td>\n",
       "      <td>22</td>\n",
       "      <td>22</td>\n",
       "      <td>3</td>\n",
       "      <td>6</td>\n",
       "      <td>0.571429</td>\n",
       "      <td>...</td>\n",
       "      <td>1.0</td>\n",
       "      <td>0</td>\n",
       "      <td>0.000000</td>\n",
       "      <td>0.250000</td>\n",
       "      <td>0</td>\n",
       "      <td>0</td>\n",
       "      <td>20.875</td>\n",
       "      <td>1</td>\n",
       "      <td>0.7500</td>\n",
       "      <td>1</td>\n",
       "    </tr>\n",
       "  </tbody>\n",
       "</table>\n",
       "<p>5 rows × 21 columns</p>\n",
       "</div>"
      ],
      "text/plain": [
       "   wmc  dit  noc  cbo  rfc  lcom  ca  ce  npm     lcom3    ...      dam  moa  \\\n",
       "0    5    3    0    7   10     0   1   7    4  0.250000    ...      1.0    1   \n",
       "1    4    1    0    3    5     4   1   2    3  0.666667    ...      1.0    1   \n",
       "2   20    4    0   26   95   144   2  26   13  0.842105    ...      1.0    0   \n",
       "3    3    2    0    8   22     3   2   6    2  2.000000    ...      0.0    0   \n",
       "4    8    1    0   25   20    22  22   3    6  0.571429    ...      1.0    0   \n",
       "\n",
       "        mfa       cam  ic  cbm     amc  max_cc  avg_cc  defective  \n",
       "0  0.921053  0.360000   1    2   7.400       1  0.6000          0  \n",
       "1  0.000000  0.500000   0    0   3.000       1  0.5000          0  \n",
       "2  0.727273  0.197368   4    5  20.300       3  1.0000          0  \n",
       "3  0.750000  0.666667   1    3  54.000      15  5.3333          1  \n",
       "4  0.000000  0.250000   0    0  20.875       1  0.7500          1  \n",
       "\n",
       "[5 rows x 21 columns]"
      ]
     },
     "execution_count": 7,
     "metadata": {},
     "output_type": "execute_result"
    }
   ],
   "source": [
    "# Apache Camel dataset\n",
    "camel = pd.read_csv('data/camel-1.6.csv')\n",
    "camel[\"defective\"] = (camel[\"bug\"] > 0).astype(int)\n",
    "camel.drop(['name', 'version', 'name.1', 'bug'], axis=1, inplace=True)\n",
    "camel.head()"
   ]
  },
  {
   "cell_type": "code",
   "execution_count": 9,
   "metadata": {},
   "outputs": [
    {
     "data": {
      "text/plain": [
       "0    777\n",
       "1    188\n",
       "Name: defective, dtype: int64"
      ]
     },
     "execution_count": 9,
     "metadata": {},
     "output_type": "execute_result"
    }
   ],
   "source": [
    "# Distribution of neutral (0) and defective (1) files\n",
    "camel[\"defective\"].value_counts()"
   ]
  },
  {
   "cell_type": "code",
   "execution_count": 10,
   "metadata": {},
   "outputs": [],
   "source": [
    "# Split data into 80% training and 20% test sets\n",
    "y = camel['defective'].values                  # y is response vector\n",
    "X = camel.drop('defective', axis=1).values     # X is array of predictors(features)\n",
    "X_train, X_test, y_train, y_test = train_test_split(X, y, test_size=0.2, random_state=myseed)"
   ]
  },
  {
   "cell_type": "code",
   "execution_count": 11,
   "metadata": {},
   "outputs": [
    {
     "name": "stderr",
     "output_type": "stream",
     "text": [
      "/home/student/anaconda3/lib/python3.7/site-packages/sklearn/linear_model/logistic.py:433: FutureWarning: Default solver will be changed to 'lbfgs' in 0.22. Specify a solver to silence this warning.\n",
      "  FutureWarning)\n"
     ]
    },
    {
     "data": {
      "text/plain": [
       "0.834"
      ]
     },
     "execution_count": 11,
     "metadata": {},
     "output_type": "execute_result"
    }
   ],
   "source": [
    "# Base model fitting and accuracy\n",
    "lr_base = LogisticRegression(random_state=myseed)\n",
    "lr_base.fit(X_train, y_train)\n",
    "\n",
    "round(lr_base.score(X_test, y_test), 3)"
   ]
  },
  {
   "cell_type": "code",
   "execution_count": 12,
   "metadata": {},
   "outputs": [
    {
     "name": "stdout",
     "output_type": "stream",
     "text": [
      "0.417\n",
      "0.167\n",
      "0.238\n",
      "0.199\n",
      "0.562\n"
     ]
    }
   ],
   "source": [
    "y_pred = lr_base.predict(X_test)\n",
    "print(round(precision_score(y_test, y_pred), 3))\n",
    "print(round(recall_score(y_test, y_pred), 3))\n",
    "print(round(f1_score(y_test, y_pred), 3))\n",
    "print(round(average_precision_score(y_test, y_pred), 3))\n",
    "print(round(roc_auc_score(y_test, y_pred), 3))"
   ]
  },
  {
   "cell_type": "markdown",
   "metadata": {},
   "source": [
    "## Grid Search\n",
    "\n",
    "A grid search finds the best hyperparameters from a user specified list by building models for all combinations of hyperparameters in the list and selecting the model with best performance. Different model types have different hyperparameters.\n",
    "\n",
    "[Logistic regression](https://scikit-learn.org/stable/modules/generated/sklearn.linear_model.LogisticRegression.html) has parameters that control how much regularization is applied. Regularization penalizes too much complexity in linear models to reduce overfitting. It will not improve performance on the training data set, but it can improve performance on the test data set. There are two parameters:\n",
    "\n",
    "  * penalty: controls the form of the regularization term in the equation: L2 is based on squares of the coefficients of the linear equation, while L1 is based on absolute values of those coefficients.\n",
    "  * C: is the inverse of the lambda coefficient of the penalty term. Larger C values mean less regularization."
   ]
  },
  {
   "cell_type": "code",
   "execution_count": 13,
   "metadata": {},
   "outputs": [
    {
     "name": "stderr",
     "output_type": "stream",
     "text": [
      "/home/student/anaconda3/lib/python3.7/site-packages/sklearn/linear_model/logistic.py:433: FutureWarning: Default solver will be changed to 'lbfgs' in 0.22. Specify a solver to silence this warning.\n",
      "  FutureWarning)\n",
      "/home/student/anaconda3/lib/python3.7/site-packages/sklearn/linear_model/logistic.py:433: FutureWarning: Default solver will be changed to 'lbfgs' in 0.22. Specify a solver to silence this warning.\n",
      "  FutureWarning)\n",
      "/home/student/anaconda3/lib/python3.7/site-packages/sklearn/linear_model/logistic.py:433: FutureWarning: Default solver will be changed to 'lbfgs' in 0.22. Specify a solver to silence this warning.\n",
      "  FutureWarning)\n",
      "/home/student/anaconda3/lib/python3.7/site-packages/sklearn/linear_model/logistic.py:433: FutureWarning: Default solver will be changed to 'lbfgs' in 0.22. Specify a solver to silence this warning.\n",
      "  FutureWarning)\n",
      "/home/student/anaconda3/lib/python3.7/site-packages/sklearn/linear_model/logistic.py:433: FutureWarning: Default solver will be changed to 'lbfgs' in 0.22. Specify a solver to silence this warning.\n",
      "  FutureWarning)\n",
      "/home/student/anaconda3/lib/python3.7/site-packages/sklearn/linear_model/logistic.py:433: FutureWarning: Default solver will be changed to 'lbfgs' in 0.22. Specify a solver to silence this warning.\n",
      "  FutureWarning)\n",
      "/home/student/anaconda3/lib/python3.7/site-packages/sklearn/linear_model/logistic.py:433: FutureWarning: Default solver will be changed to 'lbfgs' in 0.22. Specify a solver to silence this warning.\n",
      "  FutureWarning)\n",
      "/home/student/anaconda3/lib/python3.7/site-packages/sklearn/linear_model/logistic.py:433: FutureWarning: Default solver will be changed to 'lbfgs' in 0.22. Specify a solver to silence this warning.\n",
      "  FutureWarning)\n",
      "/home/student/anaconda3/lib/python3.7/site-packages/sklearn/linear_model/logistic.py:433: FutureWarning: Default solver will be changed to 'lbfgs' in 0.22. Specify a solver to silence this warning.\n",
      "  FutureWarning)\n",
      "/home/student/anaconda3/lib/python3.7/site-packages/sklearn/linear_model/logistic.py:433: FutureWarning: Default solver will be changed to 'lbfgs' in 0.22. Specify a solver to silence this warning.\n",
      "  FutureWarning)\n"
     ]
    },
    {
     "name": "stdout",
     "output_type": "stream",
     "text": [
      "Best score: 0.850\n",
      "Best parameters: {'penalty': 'l1', 'C': 0.046415888336127774}\n"
     ]
    },
    {
     "name": "stderr",
     "output_type": "stream",
     "text": [
      "/home/student/anaconda3/lib/python3.7/site-packages/sklearn/linear_model/logistic.py:433: FutureWarning: Default solver will be changed to 'lbfgs' in 0.22. Specify a solver to silence this warning.\n",
      "  FutureWarning)\n",
      "/home/student/anaconda3/lib/python3.7/site-packages/sklearn/linear_model/logistic.py:433: FutureWarning: Default solver will be changed to 'lbfgs' in 0.22. Specify a solver to silence this warning.\n",
      "  FutureWarning)\n",
      "/home/student/anaconda3/lib/python3.7/site-packages/sklearn/linear_model/logistic.py:433: FutureWarning: Default solver will be changed to 'lbfgs' in 0.22. Specify a solver to silence this warning.\n",
      "  FutureWarning)\n",
      "/home/student/anaconda3/lib/python3.7/site-packages/sklearn/linear_model/logistic.py:433: FutureWarning: Default solver will be changed to 'lbfgs' in 0.22. Specify a solver to silence this warning.\n",
      "  FutureWarning)\n",
      "/home/student/anaconda3/lib/python3.7/site-packages/sklearn/linear_model/logistic.py:433: FutureWarning: Default solver will be changed to 'lbfgs' in 0.22. Specify a solver to silence this warning.\n",
      "  FutureWarning)\n",
      "/home/student/anaconda3/lib/python3.7/site-packages/sklearn/linear_model/logistic.py:433: FutureWarning: Default solver will be changed to 'lbfgs' in 0.22. Specify a solver to silence this warning.\n",
      "  FutureWarning)\n",
      "/home/student/anaconda3/lib/python3.7/site-packages/sklearn/linear_model/logistic.py:433: FutureWarning: Default solver will be changed to 'lbfgs' in 0.22. Specify a solver to silence this warning.\n",
      "  FutureWarning)\n",
      "/home/student/anaconda3/lib/python3.7/site-packages/sklearn/linear_model/logistic.py:433: FutureWarning: Default solver will be changed to 'lbfgs' in 0.22. Specify a solver to silence this warning.\n",
      "  FutureWarning)\n",
      "/home/student/anaconda3/lib/python3.7/site-packages/sklearn/linear_model/logistic.py:433: FutureWarning: Default solver will be changed to 'lbfgs' in 0.22. Specify a solver to silence this warning.\n",
      "  FutureWarning)\n",
      "/home/student/anaconda3/lib/python3.7/site-packages/sklearn/linear_model/logistic.py:433: FutureWarning: Default solver will be changed to 'lbfgs' in 0.22. Specify a solver to silence this warning.\n",
      "  FutureWarning)\n"
     ]
    }
   ],
   "source": [
    "# Logistic Regression Grid\n",
    "best_score = 0\n",
    "\n",
    "for penalty in ['l1', 'l2']:\n",
    "    for C in np.logspace(-4, 4, 10):\n",
    "        model = LogisticRegression(penalty=penalty, C=C, random_state=myseed)\n",
    "        model.fit(X_train, y_train)\n",
    "        score = model.score(X_test, y_test)\n",
    "        if score > best_score:\n",
    "            best_score = score\n",
    "            best_parameters = {'penalty': penalty, 'C': C}\n",
    "            \n",
    "print(\"Best score: {:.3f}\".format(best_score))\n",
    "print(\"Best parameters: {}\".format(best_parameters))"
   ]
  },
  {
   "cell_type": "markdown",
   "metadata": {},
   "source": [
    "### Random Forest\n",
    "\n",
    "[Random Forest](https://scikit-learn.org/stable/modules/generated/sklearn.ensemble.RandomForestClassifier.html) models have many hyperparameters. We cannot tune all of them due to the time it would require to build and evaluate so many models, but we can tune some of the most important hyperparameters, including:\n",
    "\n",
    "  * **n_estimators**: Number of trees in the random forest.\n",
    "  * **max_depth**: Maximum depth of trees to construct.\n",
    "  * **max_features**: Maximum number of features considered when splitting a node."
   ]
  },
  {
   "cell_type": "code",
   "execution_count": 14,
   "metadata": {},
   "outputs": [
    {
     "name": "stderr",
     "output_type": "stream",
     "text": [
      "/home/student/anaconda3/lib/python3.7/site-packages/sklearn/linear_model/logistic.py:433: FutureWarning: Default solver will be changed to 'lbfgs' in 0.22. Specify a solver to silence this warning.\n",
      "  FutureWarning)\n"
     ]
    },
    {
     "data": {
      "text/plain": [
       "0.834"
      ]
     },
     "execution_count": 14,
     "metadata": {},
     "output_type": "execute_result"
    }
   ],
   "source": [
    "# Base model fitting and accuracy\n",
    "rf_base = LogisticRegression(random_state=myseed)\n",
    "rf_base.fit(X_train, y_train)\n",
    "\n",
    "round(rf_base.score(X_test, y_test), 3)"
   ]
  },
  {
   "cell_type": "code",
   "execution_count": 15,
   "metadata": {},
   "outputs": [
    {
     "name": "stdout",
     "output_type": "stream",
     "text": [
      "Best score: 0.850\n",
      "Best parameters: {'n_estimators': 50, 'max_depth': 2}\n"
     ]
    }
   ],
   "source": [
    "# Random Forest Grid for n_estimator and max_depth\n",
    "best_score = 0\n",
    "\n",
    "for n_estimator in [10, 50, 100, 500, 1000]:\n",
    "    for max_depth in [1, 2, 4]:\n",
    "        model = RandomForestClassifier(n_estimators=n_estimator, max_depth=max_depth, random_state=myseed)\n",
    "        model.fit(X_train, y_train)\n",
    "        score = model.score(X_test, y_test)\n",
    "        if score > best_score:\n",
    "            best_score = score\n",
    "            best_parameters = {'n_estimators': n_estimator, 'max_depth': max_depth}\n",
    "            \n",
    "print(\"Best score: {:.3f}\".format(best_score))\n",
    "print(\"Best parameters: {}\".format(best_parameters))"
   ]
  },
  {
   "cell_type": "markdown",
   "metadata": {},
   "source": [
    "### GridSearchCV\n",
    "\n",
    "While it is easy enough to write our own grid searches using loops, scikit-learn provides a convenient function [GridSearchCV](https://scikit-learn.org/stable/modules/generated/sklearn.model_selection.GridSearchCV.html) that performs grid search using cross-validation, which should \n",
    "\n",
    "   * Provide a more accurate performance score for new data than using the test data multiple times.\n",
    "   * Reduce the effect of different data splits on model performance. \n",
    "\n",
    "The disadvantage of using cross-validation is that it will increase the amount of computation required for the search."
   ]
  },
  {
   "cell_type": "code",
   "execution_count": 16,
   "metadata": {},
   "outputs": [],
   "source": [
    "# Grid of parameters to search\n",
    "lr_param_grid = {\n",
    "    'penalty': ['l1', 'l2'],\n",
    "    'C': np.logspace(-4, 4, 10)\n",
    "}"
   ]
  },
  {
   "cell_type": "code",
   "execution_count": 17,
   "metadata": {},
   "outputs": [
    {
     "name": "stderr",
     "output_type": "stream",
     "text": [
      "/home/student/anaconda3/lib/python3.7/site-packages/sklearn/linear_model/logistic.py:433: FutureWarning: Default solver will be changed to 'lbfgs' in 0.22. Specify a solver to silence this warning.\n",
      "  FutureWarning)\n"
     ]
    },
    {
     "data": {
      "text/plain": [
       "GridSearchCV(cv=5, error_score='raise-deprecating',\n",
       "       estimator=LogisticRegression(C=1.0, class_weight=None, dual=False, fit_intercept=True,\n",
       "          intercept_scaling=1, max_iter=100, multi_class='warn',\n",
       "          n_jobs=None, penalty='l2', random_state=None, solver='warn',\n",
       "          tol=0.0001, verbose=0, warm_start=False),\n",
       "       fit_params=None, iid='warn', n_jobs=-1,\n",
       "       param_grid={'penalty': ['l1', 'l2'], 'C': array([1.00000e-04, 7.74264e-04, 5.99484e-03, 4.64159e-02, 3.59381e-01,\n",
       "       2.78256e+00, 2.15443e+01, 1.66810e+02, 1.29155e+03, 1.00000e+04])},\n",
       "       pre_dispatch='2*n_jobs', refit=True, return_train_score='warn',\n",
       "       scoring=None, verbose=0)"
      ]
     },
     "execution_count": 17,
     "metadata": {},
     "output_type": "execute_result"
    }
   ],
   "source": [
    "# We'll use 5-fold cross validation in our grid search\n",
    "grid_search = GridSearchCV(LogisticRegression(), lr_param_grid, cv=5, n_jobs=-1)\n",
    "grid_search.fit(X_train, y_train)"
   ]
  },
  {
   "cell_type": "code",
   "execution_count": 18,
   "metadata": {},
   "outputs": [
    {
     "name": "stdout",
     "output_type": "stream",
     "text": [
      "Best parameters: {'C': 0.3593813663804626, 'penalty': 'l2'}\n",
      "Best cross-validation score: 0.804\n"
     ]
    }
   ],
   "source": [
    "print(\"Best parameters: {}\".format(grid_search.best_params_))\n",
    "print(\"Best cross-validation score: {:.3f}\".format(grid_search.best_score_))"
   ]
  },
  {
   "cell_type": "code",
   "execution_count": 19,
   "metadata": {},
   "outputs": [
    {
     "name": "stdout",
     "output_type": "stream",
     "text": [
      "Test set score: 0.834\n"
     ]
    }
   ],
   "source": [
    "print(\"Test set score: {:.3f}\".format(grid_search.score(X_test, y_test)))"
   ]
  },
  {
   "cell_type": "code",
   "execution_count": 23,
   "metadata": {},
   "outputs": [],
   "source": [
    "# Grid of parameters to search\n",
    "rf_param_grid = {\n",
    "    'n_estimators': [10, 50, 100, 200, 500, 1000],\n",
    "    'max_depth': [1, 2, 4, 8]\n",
    "}"
   ]
  },
  {
   "cell_type": "code",
   "execution_count": 24,
   "metadata": {},
   "outputs": [
    {
     "data": {
      "text/plain": [
       "GridSearchCV(cv=5, error_score='raise-deprecating',\n",
       "       estimator=RandomForestClassifier(bootstrap=True, class_weight=None, criterion='gini',\n",
       "            max_depth=None, max_features='auto', max_leaf_nodes=None,\n",
       "            min_impurity_decrease=0.0, min_impurity_split=None,\n",
       "            min_samples_leaf=1, min_samples_split=2,\n",
       "            min_weight_fraction_leaf=0.0, n_estimators='warn', n_jobs=None,\n",
       "            oob_score=False, random_state=None, verbose=0,\n",
       "            warm_start=False),\n",
       "       fit_params=None, iid='warn', n_jobs=-1,\n",
       "       param_grid={'n_estimators': [10, 50, 100, 200, 500, 1000], 'max_depth': [1, 2, 4, 8]},\n",
       "       pre_dispatch='2*n_jobs', refit=True, return_train_score='warn',\n",
       "       scoring=None, verbose=0)"
      ]
     },
     "execution_count": 24,
     "metadata": {},
     "output_type": "execute_result"
    }
   ],
   "source": [
    "# We'll use 5-fold cross validation in our grid search\n",
    "grid_search = GridSearchCV(RandomForestClassifier(), rf_param_grid, cv=5, n_jobs=-1)\n",
    "grid_search.fit(X_train, y_train)"
   ]
  },
  {
   "cell_type": "code",
   "execution_count": 25,
   "metadata": {},
   "outputs": [
    {
     "name": "stdout",
     "output_type": "stream",
     "text": [
      "Best parameters: {'max_depth': 4, 'n_estimators': 100}\n",
      "Best cross-validation score: 0.808\n"
     ]
    }
   ],
   "source": [
    "print(\"Best parameters: {}\".format(grid_search.best_params_))\n",
    "print(\"Best cross-validation score: {:.3f}\".format(grid_search.best_score_))"
   ]
  },
  {
   "cell_type": "code",
   "execution_count": 26,
   "metadata": {},
   "outputs": [
    {
     "name": "stdout",
     "output_type": "stream",
     "text": [
      "Test set score: 0.845\n"
     ]
    }
   ],
   "source": [
    "print(\"Test set score: {:.3f}\".format(grid_search.score(X_test, y_test)))"
   ]
  },
  {
   "cell_type": "markdown",
   "metadata": {},
   "source": [
    "## Differential Evolution\n",
    "\n",
    "There are too many possible hyperparameter configurations to try all of them, so we use differential evolution to explore the searchspace more efficiently than we can with grid or randomized searches. At each iteration in differential evolution, a population of candidate solutions is created by mixing candidate solutions from a previous generation (iteration.) The initial population of candidates is generated through a user-specified algorithm with an aim towards being spread across the entire searchspace. The number of candidates in each generation is also a parameter given to the algorithm.\n",
    "\n",
    "Candidates are evaluated via a user-defined objective function, with lower values being better. For hyperparameter tuning, we create an objective function that returns the mean metric score obtained via cross-validation using the training data set. Higher metric scores are better and the optimizer is looking for minimum values, so the object function multiplies the mean score by -1 to return a lower value when model performance is better.\n",
    "\n",
    "The search may produce some warnings about ill-defined metrics as some choices of hyperparameters lead to no true positives or negatives, causing errors when computing certain model performance metrics."
   ]
  },
  {
   "cell_type": "code",
   "execution_count": 27,
   "metadata": {},
   "outputs": [],
   "source": [
    "import scipy.optimize as opt"
   ]
  },
  {
   "cell_type": "code",
   "execution_count": 28,
   "metadata": {},
   "outputs": [],
   "source": [
    "# Number of folds and metric for cross-validation\n",
    "nfolds = 3\n",
    "metric = 'f1'\n",
    "\n",
    "# Define objective function with evolving parameters (taken from bounds) and fixed arguments (training data)\n",
    "def hypertuner(parameters, *data):\n",
    "    # Ensure parameters are treated as integers\n",
    "    parameters = list(map(int,parameters))\n",
    "    # Create the model\n",
    "    model = RandomForestClassifier(\n",
    "        n_estimators = parameters[0], \n",
    "        max_depth = parameters[1],\n",
    "        max_features = parameters[2],\n",
    "        random_state = myseed\n",
    "    )\n",
    "    # Perform cross validation using all cores\n",
    "    cv_scores = cross_val_score(model, data[0], data[1], scoring=metric, cv=nfolds, n_jobs=-1)\n",
    "    average_score = np.mean(cv_scores)\n",
    "    \n",
    "    print(np.round(average_score,3), parameters)\n",
    "    return -1*average_score"
   ]
  },
  {
   "cell_type": "code",
   "execution_count": 29,
   "metadata": {},
   "outputs": [
    {
     "data": {
      "text/plain": [
       "[(10, 1000), (1, 20), (1, 10)]"
      ]
     },
     "execution_count": 29,
     "metadata": {},
     "output_type": "execute_result"
    }
   ],
   "source": [
    "# Parameter ranges to optimize random forest over\n",
    "bounds = [\n",
    "    (10,1000),  # n_estimators\n",
    "    (1,20),      # max_depth\n",
    "    (1,10),     # max_features\n",
    "]\n",
    "bounds"
   ]
  },
  {
   "cell_type": "code",
   "execution_count": 30,
   "metadata": {},
   "outputs": [],
   "source": [
    "# Fixed arguments for objective function: the training data\n",
    "mydata = (X_train, y_train)"
   ]
  },
  {
   "cell_type": "code",
   "execution_count": 31,
   "metadata": {},
   "outputs": [
    {
     "name": "stdout",
     "output_type": "stream",
     "text": [
      "0.072 [919, 3, 2]\n",
      "0.334 [298, 13, 9]\n",
      "0.324 [523, 15, 8]\n",
      "0.311 [749, 13, 5]\n",
      "0.223 [434, 5, 6]\n",
      "0.136 [622, 4, 3]\n",
      "0.212 [825, 6, 4]\n",
      "0.323 [654, 17, 9]\n",
      "0.339 [35, 12, 4]\n",
      "0.251 [464, 8, 4]\n",
      "0.0 [139, 1, 9]\n",
      "0.307 [478, 14, 6]\n",
      "0.27 [73, 15, 2]\n",
      "0.127 [717, 2, 7]\n",
      "0.06 [173, 4, 1]\n",
      "0.315 [576, 12, 4]\n",
      "0.19 [547, 10, 1]\n",
      "0.258 [205, 9, 3]\n",
      "0.318 [879, 19, 8]\n",
      "0.307 [333, 16, 2]\n",
      "0.22 [966, 6, 6]\n",
      "0.291 [230, 10, 5]\n",
      "0.238 [792, 7, 7]\n",
      "0.012 [673, 1, 9]\n",
      "0.319 [368, 18, 8]\n",
      "0.264 [388, 17, 1]\n",
      "0.205 [866, 8, 3]\n",
      "0.293 [98, 11, 5]\n",
      "0.329 [253, 19, 7]\n",
      "0.176 [986, 5, 3]\n",
      "0.231 [757, 12, 1]\n",
      "0.237 [628, 7, 4]\n",
      "0.315 [909, 15, 5]\n",
      "0.309 [60, 13, 3]\n",
      "0.328 [395, 11, 7]\n",
      "0.308 [618, 18, 2]\n",
      "0.249 [484, 8, 4]\n",
      "0.145 [654, 8, 1]\n",
      "0.187 [891, 3, 9]\n",
      "0.278 [219, 9, 5]\n",
      "0.0 [599, 1, 6]\n",
      "0.229 [931, 5, 9]\n",
      "0.049 [73, 2, 3]\n",
      "0.213 [717, 8, 5]\n",
      "0.253 [173, 15, 1]\n",
      "0.311 [576, 13, 9]\n",
      "0.248 [89, 8, 4]\n",
      "0.246 [835, 15, 1]\n",
      "0.308 [615, 11, 6]\n",
      "0.332 [744, 19, 4]\n",
      "0.0 [358, 2, 1]\n",
      "0.291 [219, 10, 5]\n",
      "0.0 [130, 1, 3]\n",
      "0.256 [673, 13, 1]\n",
      "0.318 [801, 12, 8]\n",
      "0.0 [388, 2, 1]\n",
      "0.307 [866, 18, 5]\n",
      "0.304 [98, 17, 6]\n",
      "0.314 [762, 13, 5]\n",
      "0.209 [123, 5, 7]\n",
      "0.212 [687, 6, 4]\n",
      "0.323 [104, 11, 9]\n",
      "0.281 [233, 11, 3]\n",
      "0.126 [186, 2, 5]\n",
      "0.248 [430, 9, 3]\n",
      "0.305 [235, 18, 3]\n",
      "0.147 [520, 3, 4]\n",
      "0.322 [654, 17, 3]\n",
      "0.326 [345, 18, 8]\n",
      "0.318 [690, 11, 4]\n",
      "0.334 [69, 13, 9]\n",
      "0.313 [478, 11, 8]\n",
      "0.222 [42, 4, 5]\n",
      "0.307 [717, 16, 3]\n",
      "0.329 [250, 13, 9]\n",
      "0.325 [187, 18, 9]\n",
      "0.248 [89, 8, 4]\n",
      "0.238 [909, 9, 3]\n",
      "0.323 [196, 19, 7]\n",
      "0.259 [744, 7, 9]\n",
      "0.175 [966, 6, 2]\n",
      "0.232 [448, 5, 7]\n",
      "0.295 [292, 18, 2]\n",
      "0.213 [770, 8, 5]\n",
      "0.012 [478, 1, 8]\n",
      "0.136 [354, 3, 3]\n",
      "0.316 [253, 18, 8]\n",
      "0.328 [888, 17, 7]\n",
      "0.259 [296, 19, 1]\n",
      "0.27 [798, 16, 1]\n",
      "0.327 [174, 15, 4]\n",
      "0.155 [948, 8, 1]\n",
      "0.245 [753, 15, 1]\n",
      "0.327 [111, 11, 7]\n",
      "0.21 [388, 8, 2]\n",
      "0.138 [618, 2, 7]\n",
      "0.178 [319, 3, 6]\n",
      "0.33 [775, 17, 6]\n",
      "0.275 [345, 8, 8]\n",
      "0.31 [891, 14, 7]\n",
      "0.34 [69, 17, 5]\n",
      "0.138 [617, 2, 7]\n",
      "0.328 [721, 18, 7]\n",
      "0.284 [717, 17, 2]\n",
      "0.238 [250, 5, 8]\n",
      "0.315 [522, 14, 6]\n",
      "0.314 [947, 16, 9]\n",
      "0.324 [135, 17, 3]\n",
      "0.095 [915, 2, 5]\n",
      "0.332 [744, 19, 4]\n",
      "0.249 [480, 8, 4]\n",
      "0.322 [394, 10, 8]\n",
      "0.238 [822, 7, 8]\n",
      "0.311 [493, 12, 8]\n",
      "0.209 [166, 5, 8]\n",
      "0.325 [288, 18, 6]\n",
      "0.308 [588, 11, 6]\n",
      "0.34 [382, 15, 7]\n",
      "0.318 [264, 12, 6]\n",
      "0.327 [798, 16, 6]\n",
      "0.34 [382, 15, 7]\n",
      "0.34 [382, 15, 7]\n",
      "0.34 [382, 15, 7]\n",
      "0.34 [382, 15, 7]\n",
      "CPU times: user 1.17 s, sys: 126 ms, total: 1.3 s\n",
      "Wall time: 2min 56s\n"
     ]
    }
   ],
   "source": [
    "%time result = opt.differential_evolution(hypertuner, bounds, mydata, strategy='rand2bin', \\\n",
    "                                      popsize=10, mutation=(0.5,1.9), recombination=0.7, maxiter=3)"
   ]
  },
  {
   "cell_type": "code",
   "execution_count": 32,
   "metadata": {},
   "outputs": [
    {
     "data": {
      "text/plain": [
       "     fun: -0.34009936766034327\n",
       " message: 'Maximum number of iterations has been exceeded.'\n",
       "    nfev: 124\n",
       "     nit: 3\n",
       " success: False\n",
       "       x: array([382.47634662,  15.68055743,   7.08571931])"
      ]
     },
     "execution_count": 32,
     "metadata": {},
     "output_type": "execute_result"
    }
   ],
   "source": [
    "result"
   ]
  },
  {
   "cell_type": "code",
   "execution_count": 33,
   "metadata": {},
   "outputs": [
    {
     "data": {
      "text/plain": [
       "0.34"
      ]
     },
     "execution_count": 33,
     "metadata": {},
     "output_type": "execute_result"
    }
   ],
   "source": [
    "# Best F1 value for any run\n",
    "np.round(-result.fun, 3)"
   ]
  },
  {
   "cell_type": "markdown",
   "metadata": {},
   "source": [
    "# To do on your own\n",
    "\n",
    "In class, reproduce the hyperparameter tuning used in this week's paper on the CamelV0 (1.0, 1.2, 1.4) dataset. Use the hyperparameter ranges given in Table 2 of the paper. The data can be downloaded from [Seacraft](https://zenodo.org/communities/seacraft). The three datasets are to be used in the same way as the paper:\n",
    "\n",
    "    * Training: train the models on the oldest (1.0) dataset.\n",
    "    * Validation: evaluate the models within the objective function on the middle (1.2) dataset.\n",
    "    * Testing: measure the final precision using the most recent (1.4) dataset.\n",
    "\n",
    "How does your performance compare to that of the model in the paper? Do you find a large improvement in precision for the best tuned model compared to an untuned random forest model trained on the oldest dataset and evaluated on the testing dataset?"
   ]
  },
  {
   "cell_type": "code",
   "execution_count": 34,
   "metadata": {
    "scrolled": false
   },
   "outputs": [
    {
     "data": {
      "text/html": [
       "<div>\n",
       "<style scoped>\n",
       "    .dataframe tbody tr th:only-of-type {\n",
       "        vertical-align: middle;\n",
       "    }\n",
       "\n",
       "    .dataframe tbody tr th {\n",
       "        vertical-align: top;\n",
       "    }\n",
       "\n",
       "    .dataframe thead th {\n",
       "        text-align: right;\n",
       "    }\n",
       "</style>\n",
       "<table border=\"1\" class=\"dataframe\">\n",
       "  <thead>\n",
       "    <tr style=\"text-align: right;\">\n",
       "      <th></th>\n",
       "      <th>wmc</th>\n",
       "      <th>dit</th>\n",
       "      <th>noc</th>\n",
       "      <th>cbo</th>\n",
       "      <th>rfc</th>\n",
       "      <th>lcom</th>\n",
       "      <th>ca</th>\n",
       "      <th>ce</th>\n",
       "      <th>npm</th>\n",
       "      <th>lcom3</th>\n",
       "      <th>...</th>\n",
       "      <th>dam</th>\n",
       "      <th>moa</th>\n",
       "      <th>mfa</th>\n",
       "      <th>cam</th>\n",
       "      <th>ic</th>\n",
       "      <th>cbm</th>\n",
       "      <th>amc</th>\n",
       "      <th>max_cc</th>\n",
       "      <th>avg_cc</th>\n",
       "      <th>defective</th>\n",
       "    </tr>\n",
       "  </thead>\n",
       "  <tbody>\n",
       "    <tr>\n",
       "      <th>0</th>\n",
       "      <td>4</td>\n",
       "      <td>2</td>\n",
       "      <td>0</td>\n",
       "      <td>6</td>\n",
       "      <td>8</td>\n",
       "      <td>6</td>\n",
       "      <td>2</td>\n",
       "      <td>5</td>\n",
       "      <td>4</td>\n",
       "      <td>2.00</td>\n",
       "      <td>...</td>\n",
       "      <td>0.0</td>\n",
       "      <td>0</td>\n",
       "      <td>0.896552</td>\n",
       "      <td>0.500000</td>\n",
       "      <td>0</td>\n",
       "      <td>0</td>\n",
       "      <td>5.500000</td>\n",
       "      <td>1</td>\n",
       "      <td>0.7500</td>\n",
       "      <td>0</td>\n",
       "    </tr>\n",
       "    <tr>\n",
       "      <th>1</th>\n",
       "      <td>6</td>\n",
       "      <td>3</td>\n",
       "      <td>0</td>\n",
       "      <td>21</td>\n",
       "      <td>33</td>\n",
       "      <td>15</td>\n",
       "      <td>1</td>\n",
       "      <td>21</td>\n",
       "      <td>2</td>\n",
       "      <td>2.00</td>\n",
       "      <td>...</td>\n",
       "      <td>0.0</td>\n",
       "      <td>0</td>\n",
       "      <td>0.800000</td>\n",
       "      <td>0.500000</td>\n",
       "      <td>2</td>\n",
       "      <td>2</td>\n",
       "      <td>28.333333</td>\n",
       "      <td>1</td>\n",
       "      <td>0.6667</td>\n",
       "      <td>0</td>\n",
       "    </tr>\n",
       "    <tr>\n",
       "      <th>2</th>\n",
       "      <td>2</td>\n",
       "      <td>3</td>\n",
       "      <td>0</td>\n",
       "      <td>3</td>\n",
       "      <td>7</td>\n",
       "      <td>1</td>\n",
       "      <td>0</td>\n",
       "      <td>3</td>\n",
       "      <td>1</td>\n",
       "      <td>2.00</td>\n",
       "      <td>...</td>\n",
       "      <td>0.0</td>\n",
       "      <td>0</td>\n",
       "      <td>0.833333</td>\n",
       "      <td>0.666667</td>\n",
       "      <td>1</td>\n",
       "      <td>1</td>\n",
       "      <td>11.000000</td>\n",
       "      <td>1</td>\n",
       "      <td>0.5000</td>\n",
       "      <td>0</td>\n",
       "    </tr>\n",
       "    <tr>\n",
       "      <th>3</th>\n",
       "      <td>26</td>\n",
       "      <td>1</td>\n",
       "      <td>1</td>\n",
       "      <td>10</td>\n",
       "      <td>47</td>\n",
       "      <td>0</td>\n",
       "      <td>5</td>\n",
       "      <td>5</td>\n",
       "      <td>24</td>\n",
       "      <td>0.08</td>\n",
       "      <td>...</td>\n",
       "      <td>1.0</td>\n",
       "      <td>1</td>\n",
       "      <td>0.000000</td>\n",
       "      <td>0.258242</td>\n",
       "      <td>0</td>\n",
       "      <td>0</td>\n",
       "      <td>8.038462</td>\n",
       "      <td>2</td>\n",
       "      <td>1.0000</td>\n",
       "      <td>0</td>\n",
       "    </tr>\n",
       "    <tr>\n",
       "      <th>4</th>\n",
       "      <td>4</td>\n",
       "      <td>3</td>\n",
       "      <td>0</td>\n",
       "      <td>4</td>\n",
       "      <td>19</td>\n",
       "      <td>6</td>\n",
       "      <td>1</td>\n",
       "      <td>4</td>\n",
       "      <td>3</td>\n",
       "      <td>2.00</td>\n",
       "      <td>...</td>\n",
       "      <td>0.0</td>\n",
       "      <td>0</td>\n",
       "      <td>0.888889</td>\n",
       "      <td>0.375000</td>\n",
       "      <td>1</td>\n",
       "      <td>1</td>\n",
       "      <td>14.500000</td>\n",
       "      <td>1</td>\n",
       "      <td>0.5000</td>\n",
       "      <td>0</td>\n",
       "    </tr>\n",
       "  </tbody>\n",
       "</table>\n",
       "<p>5 rows × 21 columns</p>\n",
       "</div>"
      ],
      "text/plain": [
       "   wmc  dit  noc  cbo  rfc  lcom  ca  ce  npm  lcom3    ...      dam  moa  \\\n",
       "0    4    2    0    6    8     6   2   5    4   2.00    ...      0.0    0   \n",
       "1    6    3    0   21   33    15   1  21    2   2.00    ...      0.0    0   \n",
       "2    2    3    0    3    7     1   0   3    1   2.00    ...      0.0    0   \n",
       "3   26    1    1   10   47     0   5   5   24   0.08    ...      1.0    1   \n",
       "4    4    3    0    4   19     6   1   4    3   2.00    ...      0.0    0   \n",
       "\n",
       "        mfa       cam  ic  cbm        amc  max_cc  avg_cc  defective  \n",
       "0  0.896552  0.500000   0    0   5.500000       1  0.7500          0  \n",
       "1  0.800000  0.500000   2    2  28.333333       1  0.6667          0  \n",
       "2  0.833333  0.666667   1    1  11.000000       1  0.5000          0  \n",
       "3  0.000000  0.258242   0    0   8.038462       2  1.0000          0  \n",
       "4  0.888889  0.375000   1    1  14.500000       1  0.5000          0  \n",
       "\n",
       "[5 rows x 21 columns]"
      ]
     },
     "execution_count": 34,
     "metadata": {},
     "output_type": "execute_result"
    }
   ],
   "source": [
    "# Apache Camel dataset\n",
    "camel = pd.read_csv('data/camel-1.0.csv')\n",
    "camel[\"defective\"] = (camel[\"bug\"] > 0).astype(int)\n",
    "camel.drop(['name', 'version', 'name.1', 'bug'], axis=1, inplace=True)\n",
    "camel.head()"
   ]
  },
  {
   "cell_type": "code",
   "execution_count": 39,
   "metadata": {},
   "outputs": [
    {
     "data": {
      "text/html": [
       "<div>\n",
       "<style scoped>\n",
       "    .dataframe tbody tr th:only-of-type {\n",
       "        vertical-align: middle;\n",
       "    }\n",
       "\n",
       "    .dataframe tbody tr th {\n",
       "        vertical-align: top;\n",
       "    }\n",
       "\n",
       "    .dataframe thead th {\n",
       "        text-align: right;\n",
       "    }\n",
       "</style>\n",
       "<table border=\"1\" class=\"dataframe\">\n",
       "  <thead>\n",
       "    <tr style=\"text-align: right;\">\n",
       "      <th></th>\n",
       "      <th>wmc</th>\n",
       "      <th>dit</th>\n",
       "      <th>noc</th>\n",
       "      <th>cbo</th>\n",
       "      <th>rfc</th>\n",
       "      <th>lcom</th>\n",
       "      <th>ca</th>\n",
       "      <th>ce</th>\n",
       "      <th>npm</th>\n",
       "      <th>lcom3</th>\n",
       "      <th>...</th>\n",
       "      <th>dam</th>\n",
       "      <th>moa</th>\n",
       "      <th>mfa</th>\n",
       "      <th>cam</th>\n",
       "      <th>ic</th>\n",
       "      <th>cbm</th>\n",
       "      <th>amc</th>\n",
       "      <th>max_cc</th>\n",
       "      <th>avg_cc</th>\n",
       "      <th>defective</th>\n",
       "    </tr>\n",
       "  </thead>\n",
       "  <tbody>\n",
       "    <tr>\n",
       "      <th>0</th>\n",
       "      <td>9</td>\n",
       "      <td>0</td>\n",
       "      <td>0</td>\n",
       "      <td>5</td>\n",
       "      <td>24</td>\n",
       "      <td>0</td>\n",
       "      <td>1</td>\n",
       "      <td>4</td>\n",
       "      <td>9</td>\n",
       "      <td>0.000000</td>\n",
       "      <td>...</td>\n",
       "      <td>1.0</td>\n",
       "      <td>1</td>\n",
       "      <td>0.000000</td>\n",
       "      <td>0.370370</td>\n",
       "      <td>0</td>\n",
       "      <td>0</td>\n",
       "      <td>22.555556</td>\n",
       "      <td>1</td>\n",
       "      <td>0.8889</td>\n",
       "      <td>0</td>\n",
       "    </tr>\n",
       "    <tr>\n",
       "      <th>1</th>\n",
       "      <td>27</td>\n",
       "      <td>1</td>\n",
       "      <td>0</td>\n",
       "      <td>6</td>\n",
       "      <td>27</td>\n",
       "      <td>351</td>\n",
       "      <td>1</td>\n",
       "      <td>5</td>\n",
       "      <td>27</td>\n",
       "      <td>2.000000</td>\n",
       "      <td>...</td>\n",
       "      <td>0.0</td>\n",
       "      <td>0</td>\n",
       "      <td>0.000000</td>\n",
       "      <td>0.412037</td>\n",
       "      <td>0</td>\n",
       "      <td>0</td>\n",
       "      <td>0.000000</td>\n",
       "      <td>1</td>\n",
       "      <td>1.0000</td>\n",
       "      <td>1</td>\n",
       "    </tr>\n",
       "    <tr>\n",
       "      <th>2</th>\n",
       "      <td>9</td>\n",
       "      <td>1</td>\n",
       "      <td>0</td>\n",
       "      <td>3</td>\n",
       "      <td>18</td>\n",
       "      <td>30</td>\n",
       "      <td>1</td>\n",
       "      <td>2</td>\n",
       "      <td>8</td>\n",
       "      <td>0.375000</td>\n",
       "      <td>...</td>\n",
       "      <td>1.0</td>\n",
       "      <td>0</td>\n",
       "      <td>0.000000</td>\n",
       "      <td>0.355556</td>\n",
       "      <td>0</td>\n",
       "      <td>0</td>\n",
       "      <td>8.000000</td>\n",
       "      <td>1</td>\n",
       "      <td>0.7778</td>\n",
       "      <td>0</td>\n",
       "    </tr>\n",
       "    <tr>\n",
       "      <th>3</th>\n",
       "      <td>7</td>\n",
       "      <td>1</td>\n",
       "      <td>0</td>\n",
       "      <td>27</td>\n",
       "      <td>50</td>\n",
       "      <td>7</td>\n",
       "      <td>3</td>\n",
       "      <td>27</td>\n",
       "      <td>3</td>\n",
       "      <td>0.805556</td>\n",
       "      <td>...</td>\n",
       "      <td>1.0</td>\n",
       "      <td>3</td>\n",
       "      <td>0.000000</td>\n",
       "      <td>0.416667</td>\n",
       "      <td>0</td>\n",
       "      <td>0</td>\n",
       "      <td>26.428571</td>\n",
       "      <td>1</td>\n",
       "      <td>0.7143</td>\n",
       "      <td>0</td>\n",
       "    </tr>\n",
       "    <tr>\n",
       "      <th>4</th>\n",
       "      <td>8</td>\n",
       "      <td>2</td>\n",
       "      <td>0</td>\n",
       "      <td>10</td>\n",
       "      <td>28</td>\n",
       "      <td>0</td>\n",
       "      <td>1</td>\n",
       "      <td>9</td>\n",
       "      <td>3</td>\n",
       "      <td>0.357143</td>\n",
       "      <td>...</td>\n",
       "      <td>1.0</td>\n",
       "      <td>3</td>\n",
       "      <td>0.684211</td>\n",
       "      <td>0.371429</td>\n",
       "      <td>1</td>\n",
       "      <td>1</td>\n",
       "      <td>26.500000</td>\n",
       "      <td>2</td>\n",
       "      <td>1.0000</td>\n",
       "      <td>1</td>\n",
       "    </tr>\n",
       "  </tbody>\n",
       "</table>\n",
       "<p>5 rows × 21 columns</p>\n",
       "</div>"
      ],
      "text/plain": [
       "   wmc  dit  noc  cbo  rfc  lcom  ca  ce  npm     lcom3    ...      dam  moa  \\\n",
       "0    9    0    0    5   24     0   1   4    9  0.000000    ...      1.0    1   \n",
       "1   27    1    0    6   27   351   1   5   27  2.000000    ...      0.0    0   \n",
       "2    9    1    0    3   18    30   1   2    8  0.375000    ...      1.0    0   \n",
       "3    7    1    0   27   50     7   3  27    3  0.805556    ...      1.0    3   \n",
       "4    8    2    0   10   28     0   1   9    3  0.357143    ...      1.0    3   \n",
       "\n",
       "        mfa       cam  ic  cbm        amc  max_cc  avg_cc  defective  \n",
       "0  0.000000  0.370370   0    0  22.555556       1  0.8889          0  \n",
       "1  0.000000  0.412037   0    0   0.000000       1  1.0000          1  \n",
       "2  0.000000  0.355556   0    0   8.000000       1  0.7778          0  \n",
       "3  0.000000  0.416667   0    0  26.428571       1  0.7143          0  \n",
       "4  0.684211  0.371429   1    1  26.500000       2  1.0000          1  \n",
       "\n",
       "[5 rows x 21 columns]"
      ]
     },
     "execution_count": 39,
     "metadata": {},
     "output_type": "execute_result"
    }
   ],
   "source": [
    "# Apache Camel dataset\n",
    "camel2 = pd.read_csv('data/camel-1.2.csv')\n",
    "camel2[\"defective\"] = (camel2[\"bug\"] > 0).astype(int)\n",
    "camel2.drop(['name', 'version', 'name.1', 'bug'], axis=1, inplace=True)\n",
    "camel2.head()"
   ]
  },
  {
   "cell_type": "code",
   "execution_count": 35,
   "metadata": {},
   "outputs": [
    {
     "data": {
      "text/plain": [
       "0    326\n",
       "1     13\n",
       "Name: defective, dtype: int64"
      ]
     },
     "execution_count": 35,
     "metadata": {},
     "output_type": "execute_result"
    }
   ],
   "source": [
    "# Distribution of neutral (0) and defective (1) files\n",
    "camel[\"defective\"].value_counts()"
   ]
  },
  {
   "cell_type": "code",
   "execution_count": 36,
   "metadata": {},
   "outputs": [],
   "source": [
    "# Split data into 80% training and 20% test sets\n",
    "y = camel['defective'].values                  # y is response vector\n",
    "X = camel.drop('defective', axis=1).values     # X is array of predictors(features)\n",
    "X_train, X_test, y_train, y_test = train_test_split(X, y, test_size=0.0, random_state=myseed)"
   ]
  },
  {
   "cell_type": "code",
   "execution_count": 42,
   "metadata": {},
   "outputs": [],
   "source": [
    "# Split data into 0% training and 100% test sets\n",
    "y = camel2['defective'].values                  # y is response vector\n",
    "X = camel2.drop('defective', axis=1).values     # X is array of predictors(features)\n",
    "X_train, X_test, y_train, y_test = train_test_split(X, y, test_size=0.99, random_state=myseed)"
   ]
  },
  {
   "cell_type": "code",
   "execution_count": 43,
   "metadata": {},
   "outputs": [
    {
     "name": "stderr",
     "output_type": "stream",
     "text": [
      "/home/student/anaconda3/lib/python3.7/site-packages/sklearn/linear_model/logistic.py:433: FutureWarning: Default solver will be changed to 'lbfgs' in 0.22. Specify a solver to silence this warning.\n",
      "  FutureWarning)\n"
     ]
    },
    {
     "data": {
      "text/plain": [
       "0.633"
      ]
     },
     "execution_count": 43,
     "metadata": {},
     "output_type": "execute_result"
    }
   ],
   "source": [
    "# Base model fitting and accuracy\n",
    "lr_base = LogisticRegression(random_state=myseed)\n",
    "lr_base.fit(X_train, y_train)\n",
    "\n",
    "round(lr_base.score(X_test, y_test), 3)"
   ]
  },
  {
   "cell_type": "code",
   "execution_count": 44,
   "metadata": {
    "scrolled": true
   },
   "outputs": [
    {
     "data": {
      "text/html": [
       "<div>\n",
       "<style scoped>\n",
       "    .dataframe tbody tr th:only-of-type {\n",
       "        vertical-align: middle;\n",
       "    }\n",
       "\n",
       "    .dataframe tbody tr th {\n",
       "        vertical-align: top;\n",
       "    }\n",
       "\n",
       "    .dataframe thead th {\n",
       "        text-align: right;\n",
       "    }\n",
       "</style>\n",
       "<table border=\"1\" class=\"dataframe\">\n",
       "  <thead>\n",
       "    <tr style=\"text-align: right;\">\n",
       "      <th></th>\n",
       "      <th>wmc</th>\n",
       "      <th>dit</th>\n",
       "      <th>noc</th>\n",
       "      <th>cbo</th>\n",
       "      <th>rfc</th>\n",
       "      <th>lcom</th>\n",
       "      <th>ca</th>\n",
       "      <th>ce</th>\n",
       "      <th>npm</th>\n",
       "      <th>lcom3</th>\n",
       "      <th>...</th>\n",
       "      <th>dam</th>\n",
       "      <th>moa</th>\n",
       "      <th>mfa</th>\n",
       "      <th>cam</th>\n",
       "      <th>ic</th>\n",
       "      <th>cbm</th>\n",
       "      <th>amc</th>\n",
       "      <th>max_cc</th>\n",
       "      <th>avg_cc</th>\n",
       "      <th>defective</th>\n",
       "    </tr>\n",
       "  </thead>\n",
       "  <tbody>\n",
       "    <tr>\n",
       "      <th>0</th>\n",
       "      <td>8</td>\n",
       "      <td>2</td>\n",
       "      <td>0</td>\n",
       "      <td>8</td>\n",
       "      <td>31</td>\n",
       "      <td>28</td>\n",
       "      <td>1</td>\n",
       "      <td>7</td>\n",
       "      <td>1</td>\n",
       "      <td>2.000000</td>\n",
       "      <td>...</td>\n",
       "      <td>0.000000</td>\n",
       "      <td>0</td>\n",
       "      <td>0.588235</td>\n",
       "      <td>0.347222</td>\n",
       "      <td>1</td>\n",
       "      <td>1</td>\n",
       "      <td>48.250000</td>\n",
       "      <td>7</td>\n",
       "      <td>3.1250</td>\n",
       "      <td>1</td>\n",
       "    </tr>\n",
       "    <tr>\n",
       "      <th>1</th>\n",
       "      <td>5</td>\n",
       "      <td>0</td>\n",
       "      <td>0</td>\n",
       "      <td>9</td>\n",
       "      <td>17</td>\n",
       "      <td>10</td>\n",
       "      <td>2</td>\n",
       "      <td>8</td>\n",
       "      <td>2</td>\n",
       "      <td>2.000000</td>\n",
       "      <td>...</td>\n",
       "      <td>0.000000</td>\n",
       "      <td>0</td>\n",
       "      <td>0.000000</td>\n",
       "      <td>0.450000</td>\n",
       "      <td>0</td>\n",
       "      <td>0</td>\n",
       "      <td>18.400000</td>\n",
       "      <td>2</td>\n",
       "      <td>1.0000</td>\n",
       "      <td>0</td>\n",
       "    </tr>\n",
       "    <tr>\n",
       "      <th>2</th>\n",
       "      <td>1</td>\n",
       "      <td>1</td>\n",
       "      <td>0</td>\n",
       "      <td>0</td>\n",
       "      <td>1</td>\n",
       "      <td>0</td>\n",
       "      <td>0</td>\n",
       "      <td>0</td>\n",
       "      <td>1</td>\n",
       "      <td>2.000000</td>\n",
       "      <td>...</td>\n",
       "      <td>0.000000</td>\n",
       "      <td>0</td>\n",
       "      <td>0.000000</td>\n",
       "      <td>1.000000</td>\n",
       "      <td>0</td>\n",
       "      <td>0</td>\n",
       "      <td>0.000000</td>\n",
       "      <td>1</td>\n",
       "      <td>1.0000</td>\n",
       "      <td>0</td>\n",
       "    </tr>\n",
       "    <tr>\n",
       "      <th>3</th>\n",
       "      <td>13</td>\n",
       "      <td>3</td>\n",
       "      <td>0</td>\n",
       "      <td>41</td>\n",
       "      <td>73</td>\n",
       "      <td>50</td>\n",
       "      <td>5</td>\n",
       "      <td>41</td>\n",
       "      <td>5</td>\n",
       "      <td>0.892857</td>\n",
       "      <td>...</td>\n",
       "      <td>0.714286</td>\n",
       "      <td>0</td>\n",
       "      <td>0.645161</td>\n",
       "      <td>0.250000</td>\n",
       "      <td>1</td>\n",
       "      <td>1</td>\n",
       "      <td>24.923077</td>\n",
       "      <td>5</td>\n",
       "      <td>1.6154</td>\n",
       "      <td>0</td>\n",
       "    </tr>\n",
       "    <tr>\n",
       "      <th>4</th>\n",
       "      <td>7</td>\n",
       "      <td>2</td>\n",
       "      <td>0</td>\n",
       "      <td>6</td>\n",
       "      <td>13</td>\n",
       "      <td>17</td>\n",
       "      <td>4</td>\n",
       "      <td>2</td>\n",
       "      <td>7</td>\n",
       "      <td>0.750000</td>\n",
       "      <td>...</td>\n",
       "      <td>1.000000</td>\n",
       "      <td>1</td>\n",
       "      <td>0.333333</td>\n",
       "      <td>0.428571</td>\n",
       "      <td>0</td>\n",
       "      <td>0</td>\n",
       "      <td>5.285714</td>\n",
       "      <td>1</td>\n",
       "      <td>0.8571</td>\n",
       "      <td>0</td>\n",
       "    </tr>\n",
       "  </tbody>\n",
       "</table>\n",
       "<p>5 rows × 21 columns</p>\n",
       "</div>"
      ],
      "text/plain": [
       "   wmc  dit  noc  cbo  rfc  lcom  ca  ce  npm     lcom3    ...           dam  \\\n",
       "0    8    2    0    8   31    28   1   7    1  2.000000    ...      0.000000   \n",
       "1    5    0    0    9   17    10   2   8    2  2.000000    ...      0.000000   \n",
       "2    1    1    0    0    1     0   0   0    1  2.000000    ...      0.000000   \n",
       "3   13    3    0   41   73    50   5  41    5  0.892857    ...      0.714286   \n",
       "4    7    2    0    6   13    17   4   2    7  0.750000    ...      1.000000   \n",
       "\n",
       "   moa       mfa       cam  ic  cbm        amc  max_cc  avg_cc  defective  \n",
       "0    0  0.588235  0.347222   1    1  48.250000       7  3.1250          1  \n",
       "1    0  0.000000  0.450000   0    0  18.400000       2  1.0000          0  \n",
       "2    0  0.000000  1.000000   0    0   0.000000       1  1.0000          0  \n",
       "3    0  0.645161  0.250000   1    1  24.923077       5  1.6154          0  \n",
       "4    1  0.333333  0.428571   0    0   5.285714       1  0.8571          0  \n",
       "\n",
       "[5 rows x 21 columns]"
      ]
     },
     "execution_count": 44,
     "metadata": {},
     "output_type": "execute_result"
    }
   ],
   "source": [
    "# Apache Camel dataset\n",
    "camel4 = pd.read_csv('data/camel-1.4.csv')\n",
    "camel4[\"defective\"] = (camel4[\"bug\"] > 0).astype(int)\n",
    "camel4.drop(['name', 'version', 'name.1', 'bug'], axis=1, inplace=True)\n",
    "camel4.head()"
   ]
  },
  {
   "cell_type": "code",
   "execution_count": 50,
   "metadata": {},
   "outputs": [],
   "source": [
    "# Split data into 0% training and 100% test sets\n",
    "y = camel4['defective'].values                  # y is response vector\n",
    "X = camel4.drop('defective', axis=1).values     # X is array of predictors(features)\n",
    "X_train, X_test, y_train, y_test = train_test_split(X, y, test_size=0.99, random_state=myseed)"
   ]
  },
  {
   "cell_type": "code",
   "execution_count": 51,
   "metadata": {},
   "outputs": [
    {
     "data": {
      "text/plain": [
       "0.815"
      ]
     },
     "execution_count": 51,
     "metadata": {},
     "output_type": "execute_result"
    }
   ],
   "source": [
    "round(lr_base.score(X_test, y_test), 3)"
   ]
  },
  {
   "cell_type": "code",
   "execution_count": 52,
   "metadata": {},
   "outputs": [
    {
     "name": "stdout",
     "output_type": "stream",
     "text": [
      "0.167\n",
      "0.028\n",
      "0.048\n",
      "0.167\n",
      "0.5\n"
     ]
    }
   ],
   "source": [
    "y_pred = lr_base.predict(X_test)\n",
    "print(round(precision_score(y_test, y_pred), 3))\n",
    "print(round(recall_score(y_test, y_pred), 3))\n",
    "print(round(f1_score(y_test, y_pred), 3))\n",
    "print(round(average_precision_score(y_test, y_pred), 3))\n",
    "print(round(roc_auc_score(y_test, y_pred), 3))"
   ]
  },
  {
   "cell_type": "markdown",
   "metadata": {},
   "source": [
    "## References\n",
    "\n",
    "  1. Müller, Andreas C., and Sarah Guido. *Introduction to machine learning with Python: a guide for data scientists*. O'Reilly Media, Inc., 2016.\n",
    "  2. Rodriguez-Mier, Pablo. A tutorial on Differential Evolution with Python. https://pablormier.github.io/2017/09/05/a-tutorial-on-differential-evolution-with-python/. 2017.\n",
    "  2. Scikit-learn documentation. https://scikit-learn.org/stable/modules/grid_search.html. 2019."
   ]
  }
 ],
 "metadata": {
  "kernelspec": {
   "display_name": "Python 3",
   "language": "python",
   "name": "python3"
  },
  "language_info": {
   "codemirror_mode": {
    "name": "ipython",
    "version": 3
   },
   "file_extension": ".py",
   "mimetype": "text/x-python",
   "name": "python",
   "nbconvert_exporter": "python",
   "pygments_lexer": "ipython3",
   "version": "3.7.1"
  }
 },
 "nbformat": 4,
 "nbformat_minor": 2
}
